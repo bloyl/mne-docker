{
 "cells": [
  {
   "cell_type": "code",
   "execution_count": 2,
   "metadata": {},
   "outputs": [],
   "source": [
    "import mne\n",
    "import os\n",
    "import s3fs\n",
    "from dask.distributed import Client\n",
    "from mne.time_frequency import psd_multitaper\n",
    "from dask_cloudprovider.aws import FargateCluster\n",
    "from dask import delayed\n",
    "import numpy as np\n",
    "from dask.distributed import performance_report\n",
    "\n",
    "# Reduce Verbosity\n",
    "mne.set_log_level('WARNING')\n",
    "# Numbers of subjects to be processed in parallel"
   ]
  },
  {
   "cell_type": "code",
   "execution_count": 3,
   "metadata": {},
   "outputs": [
    {
     "name": "stderr",
     "output_type": "stream",
     "text": [
      "c:\\users\\skhan\\anaconda3\\envs\\dask-test\\lib\\contextlib.py:120: UserWarning: Creating your cluster is taking a surprisingly long time. This is likely due to pending resources on AWS. Hang tight! \n",
      "  next(self.gen)\n"
     ]
    }
   ],
   "source": [
    "n_workers = 50\n",
    "os.environ[\"AWS_DEFAULT_REGION\"] = \"us-east-1\"\n",
    "\n",
    "cluster = FargateCluster(\n",
    "    image=\"mnetools/mne-python:0.22.1\", #Base Docker Image to use\n",
    "    n_workers=n_workers,\n",
    "    fargate_use_private_ip=False,\n",
    "    scheduler_timeout=\"15 minutes\"\n",
    ")\n",
    "client = Client(cluster)"
   ]
  },
  {
   "cell_type": "code",
   "execution_count": 4,
   "metadata": {},
   "outputs": [
    {
     "data": {
      "text/html": [
       "<table style=\"border: 2px solid white;\">\n",
       "<tr>\n",
       "<td style=\"vertical-align: top; border: 0px solid white\">\n",
       "<h3 style=\"text-align: left;\">Client</h3>\n",
       "<ul style=\"text-align: left; list-style: none; margin: 0; padding: 0;\">\n",
       "  <li><b>Scheduler: </b>tcp://3.239.49.133:8786</li>\n",
       "  <li><b>Dashboard: </b><a href='http://3.239.49.133:8787/status' target='_blank'>http://3.239.49.133:8787/status</a></li>\n",
       "</ul>\n",
       "</td>\n",
       "<td style=\"vertical-align: top; border: 0px solid white\">\n",
       "<h3 style=\"text-align: left;\">Cluster</h3>\n",
       "<ul style=\"text-align: left; list-style:none; margin: 0; padding: 0;\">\n",
       "  <li><b>Workers: </b>50</li>\n",
       "  <li><b>Cores: </b>200</li>\n",
       "  <li><b>Memory: </b>745.06 GiB</li>\n",
       "</ul>\n",
       "</td>\n",
       "</tr>\n",
       "</table>"
      ],
      "text/plain": [
       "<Client: 'tcp://172.31.77.249:8786' processes=50 threads=200, memory=745.06 GiB>"
      ]
     },
     "execution_count": 4,
     "metadata": {},
     "output_type": "execute_result"
    }
   ],
   "source": [
    "client"
   ]
  },
  {
   "cell_type": "code",
   "execution_count": 5,
   "metadata": {},
   "outputs": [
    {
     "name": "stdout",
     "output_type": "stream",
     "text": [
      "['mnedask/rest1.fif', 'mnedask/rest10.fif', 'mnedask/rest100.fif', 'mnedask/rest101.fif', 'mnedask/rest102.fif', 'mnedask/rest103.fif', 'mnedask/rest104.fif', 'mnedask/rest105.fif', 'mnedask/rest106.fif', 'mnedask/rest107.fif', 'mnedask/rest108.fif', 'mnedask/rest109.fif', 'mnedask/rest11.fif', 'mnedask/rest110.fif', 'mnedask/rest111.fif', 'mnedask/rest112.fif', 'mnedask/rest113.fif', 'mnedask/rest114.fif', 'mnedask/rest115.fif', 'mnedask/rest116.fif', 'mnedask/rest117.fif', 'mnedask/rest118.fif', 'mnedask/rest119.fif', 'mnedask/rest12.fif', 'mnedask/rest120.fif', 'mnedask/rest121.fif', 'mnedask/rest122.fif', 'mnedask/rest123.fif', 'mnedask/rest124.fif', 'mnedask/rest125.fif', 'mnedask/rest126.fif', 'mnedask/rest127.fif', 'mnedask/rest128.fif', 'mnedask/rest129.fif', 'mnedask/rest13.fif', 'mnedask/rest130.fif', 'mnedask/rest131.fif', 'mnedask/rest132.fif', 'mnedask/rest133.fif', 'mnedask/rest134.fif', 'mnedask/rest135.fif', 'mnedask/rest136.fif', 'mnedask/rest137.fif', 'mnedask/rest138.fif', 'mnedask/rest139.fif', 'mnedask/rest14.fif', 'mnedask/rest140.fif', 'mnedask/rest141.fif', 'mnedask/rest142.fif', 'mnedask/rest143.fif', 'mnedask/rest144.fif', 'mnedask/rest145.fif', 'mnedask/rest146.fif', 'mnedask/rest147.fif', 'mnedask/rest148.fif', 'mnedask/rest149.fif', 'mnedask/rest150.fif', 'mnedask/rest151.fif', 'mnedask/rest152.fif', 'mnedask/rest153.fif', 'mnedask/rest154.fif', 'mnedask/rest155.fif', 'mnedask/rest156.fif', 'mnedask/rest157.fif', 'mnedask/rest158.fif', 'mnedask/rest159.fif', 'mnedask/rest16.fif', 'mnedask/rest160.fif', 'mnedask/rest161.fif', 'mnedask/rest162.fif', 'mnedask/rest163.fif', 'mnedask/rest164.fif', 'mnedask/rest165.fif', 'mnedask/rest166.fif', 'mnedask/rest167.fif', 'mnedask/rest168.fif', 'mnedask/rest169.fif', 'mnedask/rest17.fif', 'mnedask/rest170.fif', 'mnedask/rest171.fif', 'mnedask/rest172.fif', 'mnedask/rest173.fif', 'mnedask/rest174.fif', 'mnedask/rest175.fif', 'mnedask/rest176.fif', 'mnedask/rest177.fif', 'mnedask/rest178.fif', 'mnedask/rest179.fif', 'mnedask/rest180.fif', 'mnedask/rest181.fif', 'mnedask/rest182.fif', 'mnedask/rest183.fif', 'mnedask/rest184.fif', 'mnedask/rest185.fif', 'mnedask/rest186.fif', 'mnedask/rest187.fif', 'mnedask/rest188.fif', 'mnedask/rest189.fif', 'mnedask/rest19.fif', 'mnedask/rest190.fif', 'mnedask/rest191.fif', 'mnedask/rest192.fif', 'mnedask/rest193.fif', 'mnedask/rest194.fif', 'mnedask/rest195.fif', 'mnedask/rest196.fif', 'mnedask/rest197.fif', 'mnedask/rest198.fif', 'mnedask/rest199.fif', 'mnedask/rest2.fif', 'mnedask/rest20.fif', 'mnedask/rest200.fif', 'mnedask/rest201.fif', 'mnedask/rest202.fif', 'mnedask/rest203.fif', 'mnedask/rest204.fif', 'mnedask/rest205.fif', 'mnedask/rest206.fif', 'mnedask/rest207.fif', 'mnedask/rest208.fif', 'mnedask/rest209.fif', 'mnedask/rest21.fif', 'mnedask/rest210.fif', 'mnedask/rest211.fif', 'mnedask/rest212.fif', 'mnedask/rest213.fif', 'mnedask/rest214.fif', 'mnedask/rest215.fif', 'mnedask/rest216.fif', 'mnedask/rest217.fif', 'mnedask/rest218.fif', 'mnedask/rest219.fif', 'mnedask/rest22.fif', 'mnedask/rest220.fif', 'mnedask/rest221.fif', 'mnedask/rest222.fif', 'mnedask/rest223.fif', 'mnedask/rest224.fif', 'mnedask/rest225.fif', 'mnedask/rest226.fif', 'mnedask/rest227.fif', 'mnedask/rest228.fif', 'mnedask/rest229.fif', 'mnedask/rest23.fif', 'mnedask/rest230.fif', 'mnedask/rest231.fif', 'mnedask/rest232.fif', 'mnedask/rest233.fif', 'mnedask/rest234.fif', 'mnedask/rest235.fif', 'mnedask/rest236.fif', 'mnedask/rest237.fif', 'mnedask/rest238.fif', 'mnedask/rest239.fif', 'mnedask/rest24.fif', 'mnedask/rest240.fif', 'mnedask/rest241.fif', 'mnedask/rest242.fif', 'mnedask/rest243.fif', 'mnedask/rest244.fif', 'mnedask/rest245.fif', 'mnedask/rest246.fif', 'mnedask/rest247.fif', 'mnedask/rest248.fif', 'mnedask/rest249.fif', 'mnedask/rest25.fif', 'mnedask/rest250.fif', 'mnedask/rest251.fif', 'mnedask/rest252.fif', 'mnedask/rest253.fif', 'mnedask/rest254.fif', 'mnedask/rest255.fif', 'mnedask/rest256.fif', 'mnedask/rest257.fif', 'mnedask/rest258.fif', 'mnedask/rest259.fif', 'mnedask/rest26.fif', 'mnedask/rest260.fif', 'mnedask/rest261.fif', 'mnedask/rest262.fif', 'mnedask/rest263.fif', 'mnedask/rest264.fif', 'mnedask/rest265.fif', 'mnedask/rest266.fif', 'mnedask/rest267.fif', 'mnedask/rest268.fif', 'mnedask/rest269.fif', 'mnedask/rest27.fif', 'mnedask/rest270.fif', 'mnedask/rest271.fif', 'mnedask/rest272.fif', 'mnedask/rest273.fif', 'mnedask/rest274.fif', 'mnedask/rest275.fif', 'mnedask/rest276.fif', 'mnedask/rest277.fif', 'mnedask/rest278.fif', 'mnedask/rest279.fif', 'mnedask/rest28.fif', 'mnedask/rest280.fif', 'mnedask/rest281.fif', 'mnedask/rest282.fif', 'mnedask/rest283.fif', 'mnedask/rest284.fif', 'mnedask/rest285.fif', 'mnedask/rest286.fif', 'mnedask/rest287.fif', 'mnedask/rest288.fif', 'mnedask/rest289.fif', 'mnedask/rest29.fif', 'mnedask/rest290.fif', 'mnedask/rest291.fif', 'mnedask/rest292.fif', 'mnedask/rest293.fif', 'mnedask/rest294.fif', 'mnedask/rest295.fif', 'mnedask/rest296.fif', 'mnedask/rest297.fif', 'mnedask/rest298.fif', 'mnedask/rest299.fif', 'mnedask/rest3.fif', 'mnedask/rest30.fif', 'mnedask/rest300.fif', 'mnedask/rest31.fif', 'mnedask/rest32.fif', 'mnedask/rest33.fif', 'mnedask/rest34.fif', 'mnedask/rest35.fif', 'mnedask/rest36.fif', 'mnedask/rest37.fif', 'mnedask/rest38.fif', 'mnedask/rest39.fif', 'mnedask/rest4.fif', 'mnedask/rest40.fif', 'mnedask/rest41.fif', 'mnedask/rest42.fif', 'mnedask/rest43.fif', 'mnedask/rest44.fif', 'mnedask/rest45.fif', 'mnedask/rest46.fif', 'mnedask/rest47.fif', 'mnedask/rest48.fif', 'mnedask/rest49.fif', 'mnedask/rest5.fif', 'mnedask/rest50.fif', 'mnedask/rest51.fif', 'mnedask/rest52.fif', 'mnedask/rest53.fif', 'mnedask/rest54.fif', 'mnedask/rest55.fif', 'mnedask/rest56.fif', 'mnedask/rest57.fif', 'mnedask/rest58.fif', 'mnedask/rest59.fif', 'mnedask/rest6.fif', 'mnedask/rest60.fif', 'mnedask/rest61.fif', 'mnedask/rest62.fif', 'mnedask/rest63.fif', 'mnedask/rest64.fif', 'mnedask/rest65.fif', 'mnedask/rest66.fif', 'mnedask/rest67.fif', 'mnedask/rest68.fif', 'mnedask/rest69.fif', 'mnedask/rest7.fif', 'mnedask/rest70.fif', 'mnedask/rest71.fif', 'mnedask/rest72.fif', 'mnedask/rest73.fif', 'mnedask/rest74.fif', 'mnedask/rest75.fif', 'mnedask/rest76.fif', 'mnedask/rest77.fif', 'mnedask/rest78.fif', 'mnedask/rest79.fif', 'mnedask/rest8.fif', 'mnedask/rest80.fif', 'mnedask/rest81.fif', 'mnedask/rest82.fif', 'mnedask/rest83.fif', 'mnedask/rest84.fif', 'mnedask/rest85.fif', 'mnedask/rest86.fif', 'mnedask/rest87.fif', 'mnedask/rest88.fif', 'mnedask/rest89.fif', 'mnedask/rest9.fif', 'mnedask/rest90.fif', 'mnedask/rest91.fif', 'mnedask/rest92.fif', 'mnedask/rest93.fif', 'mnedask/rest94.fif', 'mnedask/rest95.fif', 'mnedask/rest96.fif', 'mnedask/rest97.fif', 'mnedask/rest98.fif', 'mnedask/rest99.fif']\n"
     ]
    }
   ],
   "source": [
    "fs = s3fs.S3FileSystem(anon=False, key='********************', secret='********************')\n",
    "files = fs.ls(\"mnedask\")\n",
    "print(files)"
   ]
  },
  {
   "cell_type": "code",
   "execution_count": 6,
   "metadata": {},
   "outputs": [],
   "source": [
    "def read_raw_s3(fif_file_s3):\n",
    "    fif_file = fs.open(fif_file_s3, mode='rb')\n",
    "    raw = mne.io.read_raw_fif(fif_file, preload=True)\n",
    "    return raw"
   ]
  },
  {
   "cell_type": "code",
   "execution_count": 7,
   "metadata": {},
   "outputs": [],
   "source": [
    "def crop_raw(raw):\n",
    "    raw = raw.crop(0, 60)\n",
    "    return raw"
   ]
  },
  {
   "cell_type": "code",
   "execution_count": 8,
   "metadata": {},
   "outputs": [],
   "source": [
    "def apply_proj(raw):\n",
    "    raw = raw.apply_proj()\n",
    "    return raw"
   ]
  },
  {
   "cell_type": "code",
   "execution_count": 9,
   "metadata": {},
   "outputs": [],
   "source": [
    "def apply_filter(raw):\n",
    "    raw = raw.filter(1, None)\n",
    "    return raw"
   ]
  },
  {
   "cell_type": "code",
   "execution_count": 10,
   "metadata": {},
   "outputs": [],
   "source": [
    "def compute_psd(raw):\n",
    "    picks = mne.pick_types(raw.info, meg='mag', eeg=False,\n",
    "                           eog=False, stim=False)\n",
    "    psd, _ = psd_multitaper(raw, fmin=2, fmax=55, picks=picks, normalization=\"full\")\n",
    "    return np.log10(psd)"
   ]
  },
  {
   "cell_type": "code",
   "execution_count": 11,
   "metadata": {},
   "outputs": [],
   "source": [
    "def compute_mean_psd(psds):\n",
    "    return np.mean(np.array(psds), axis=0)"
   ]
  },
  {
   "cell_type": "code",
   "execution_count": 12,
   "metadata": {},
   "outputs": [],
   "source": [
    "psds = []\n",
    "for file in files:\n",
    "    raw = delayed(read_raw_s3)(file)\n",
    "    raw = delayed(crop_raw)(raw)\n",
    "    raw = delayed(apply_proj)(raw)\n",
    "    raw = delayed(apply_filter)(raw)\n",
    "    psd = delayed(compute_psd)(raw)\n",
    "    psds.append(psd)\n",
    "\n",
    "mean_psd = delayed(compute_mean_psd)(psds)"
   ]
  },
  {
   "cell_type": "code",
   "execution_count": 13,
   "metadata": {},
   "outputs": [
    {
     "name": "stdout",
     "output_type": "stream",
     "text": [
      "Wall time: 2min 50s\n"
     ]
    }
   ],
   "source": [
    "%%time\n",
    "all_psds = client.compute(mean_psd)\n",
    "all_psds = all_psds.result()"
   ]
  },
  {
   "cell_type": "code",
   "execution_count": 14,
   "metadata": {},
   "outputs": [],
   "source": [
    "client.close()"
   ]
  },
  {
   "cell_type": "code",
   "execution_count": 15,
   "metadata": {},
   "outputs": [
    {
     "data": {
      "text/html": [
       "<h3 style=\"text-align: left;\">Client</h3>\n",
       "<ul style=\"text-align: left; list-style: none; margin: 0; padding: 0;\">\n",
       "  <li><b>Scheduler: not connected</b></li>\n",
       "</ul>\n"
      ],
      "text/plain": [
       "<Client: not connected>"
      ]
     },
     "execution_count": 15,
     "metadata": {},
     "output_type": "execute_result"
    }
   ],
   "source": [
    "client"
   ]
  },
  {
   "cell_type": "code",
   "execution_count": null,
   "metadata": {},
   "outputs": [],
   "source": []
  }
 ],
 "metadata": {
  "kernelspec": {
   "display_name": "Python 3",
   "language": "python",
   "name": "python3"
  },
  "language_info": {
   "codemirror_mode": {
    "name": "ipython",
    "version": 3
   },
   "file_extension": ".py",
   "mimetype": "text/x-python",
   "name": "python",
   "nbconvert_exporter": "python",
   "pygments_lexer": "ipython3",
   "version": "3.8.0"
  }
 },
 "nbformat": 4,
 "nbformat_minor": 4
}
