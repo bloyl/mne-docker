{
 "cells": [
  {
   "cell_type": "code",
   "execution_count": 17,
   "metadata": {},
   "outputs": [],
   "source": [
    "import mne\n",
    "import os\n",
    "import s3fs\n",
    "from dask.distributed import Client\n",
    "from mne.time_frequency import psd_multitaper\n",
    "from dask_cloudprovider.aws import FargateCluster\n",
    "from dask import delayed\n",
    "import numpy as np\n",
    "from dask.distributed import performance_report\n",
    "\n",
    "# Reduce Verbosity\n",
    "mne.set_log_level('WARNING')\n",
    "# Numbers of subjects to be processed in parallel"
   ]
  },
  {
   "cell_type": "code",
   "execution_count": 18,
   "metadata": {},
   "outputs": [],
   "source": [
    "n_workers = 2\n",
    "worker_mem = 30720\n",
    "\n",
    "os.environ[\"AWS_DEFAULT_REGION\"] = \"us-east-2\"\n",
    "\n",
    "cluster = FargateCluster(\n",
    "    image=\"daskdev/dask:latest\", #Base Docker Image to use\n",
    "    worker_mem=worker_mem,\n",
    "    n_workers=n_workers,\n",
    "    fargate_use_private_ip=False,\n",
    "    scheduler_timeout=\"15 minutes\",\n",
    "    environment={\n",
    "        \"EXTRA_PIP_PACKAGES\": \"dask-ml==1.6.0 scikit-learn==0.23.2 s3fs mne bokeh\"\n",
    "    }\n",
    ")\n",
    "client = Client(cluster)"
   ]
  },
  {
   "cell_type": "code",
   "execution_count": 20,
   "metadata": {},
   "outputs": [
    {
     "data": {
      "text/html": [
       "<table style=\"border: 2px solid white;\">\n",
       "<tr>\n",
       "<td style=\"vertical-align: top; border: 0px solid white\">\n",
       "<h3 style=\"text-align: left;\">Client</h3>\n",
       "<ul style=\"text-align: left; list-style: none; margin: 0; padding: 0;\">\n",
       "  <li><b>Scheduler: </b>tcp://3.138.124.15:8786</li>\n",
       "  <li><b>Dashboard: </b><a href='http://3.138.124.15:8787/status' target='_blank'>http://3.138.124.15:8787/status</a></li>\n",
       "</ul>\n",
       "</td>\n",
       "<td style=\"vertical-align: top; border: 0px solid white\">\n",
       "<h3 style=\"text-align: left;\">Cluster</h3>\n",
       "<ul style=\"text-align: left; list-style:none; margin: 0; padding: 0;\">\n",
       "  <li><b>Workers: </b>2</li>\n",
       "  <li><b>Cores: </b>8</li>\n",
       "  <li><b>Memory: </b>60.00 GB</li>\n",
       "</ul>\n",
       "</td>\n",
       "</tr>\n",
       "</table>"
      ],
      "text/plain": [
       "<Client: 'tcp://172.31.15.147:8786' processes=2 threads=8, memory=60.00 GB>"
      ]
     },
     "execution_count": 20,
     "metadata": {},
     "output_type": "execute_result"
    }
   ],
   "source": [
    "client"
   ]
  },
  {
   "cell_type": "code",
   "execution_count": 21,
   "metadata": {},
   "outputs": [
    {
     "name": "stdout",
     "output_type": "stream",
     "text": [
      "['mnedask/rest1.fif', 'mnedask/rest10.fif', 'mnedask/rest11.fif', 'mnedask/rest12.fif', 'mnedask/rest13.fif', 'mnedask/rest14.fif', 'mnedask/rest16.fif', 'mnedask/rest17.fif', 'mnedask/rest2.fif', 'mnedask/rest3.fif', 'mnedask/rest4.fif', 'mnedask/rest5.fif', 'mnedask/rest6.fif', 'mnedask/rest7.fif', 'mnedask/rest8.fif', 'mnedask/rest9.fif']\n"
     ]
    }
   ],
   "source": [
    "fs = s3fs.S3FileSystem(anon=False, key='**********', secret='****************')\n",
    "files = fs.ls(\"mnedask\")\n",
    "print(files)"
   ]
  },
  {
   "cell_type": "code",
   "execution_count": 22,
   "metadata": {},
   "outputs": [],
   "source": [
    "def read_raw_s3(fif_file_s3):\n",
    "    fif_file = fs.open(fif_file_s3, mode='rb')\n",
    "    raw = mne.io.read_raw_fif(fif_file, preload=True)\n",
    "    raw.crop(0, 50)\n",
    "    return raw"
   ]
  },
  {
   "cell_type": "code",
   "execution_count": 23,
   "metadata": {},
   "outputs": [],
   "source": [
    "def compute_psd(raw):\n",
    "    picks = mne.pick_types(raw.info, meg='mag', eeg=False,\n",
    "                           eog=False, stim=False)\n",
    "    psd, _ = psd_multitaper(raw, fmin=2, fmax=55, picks=picks, normalization=\"full\")\n",
    "    return np.log10(psd)"
   ]
  },
  {
   "cell_type": "code",
   "execution_count": 24,
   "metadata": {},
   "outputs": [],
   "source": [
    "def compute_mean_psd(psds):\n",
    "    return np.mean(np.array(psds), axis=0)"
   ]
  },
  {
   "cell_type": "code",
   "execution_count": 25,
   "metadata": {},
   "outputs": [],
   "source": [
    "psds = []\n",
    "for file in files[0:4]:\n",
    "    raw = delayed(read_raw_s3)(file)\n",
    "    psd = delayed(compute_psd)(raw)\n",
    "    psds.append(psd)\n",
    "\n",
    "mean_psd = delayed(compute_mean_psd)(psds)"
   ]
  },
  {
   "cell_type": "code",
   "execution_count": 26,
   "metadata": {},
   "outputs": [],
   "source": [
    "all_psds = client.compute(mean_psd)\n",
    "all_psds = all_psds.result()"
   ]
  },
  {
   "cell_type": "code",
   "execution_count": 27,
   "metadata": {},
   "outputs": [],
   "source": [
    "client.close()"
   ]
  },
  {
   "cell_type": "code",
   "execution_count": 28,
   "metadata": {},
   "outputs": [
    {
     "data": {
      "text/html": [
       "<h3 style=\"text-align: left;\">Client</h3>\n",
       "<ul style=\"text-align: left; list-style: none; margin: 0; padding: 0;\">\n",
       "  <li><b>Scheduler: not connected</b></li>\n",
       "</ul>\n"
      ],
      "text/plain": [
       "<Client: not connected>"
      ]
     },
     "execution_count": 28,
     "metadata": {},
     "output_type": "execute_result"
    }
   ],
   "source": [
    "client"
   ]
  },
  {
   "cell_type": "code",
   "execution_count": null,
   "metadata": {},
   "outputs": [],
   "source": []
  }
 ],
 "metadata": {
  "kernelspec": {
   "display_name": "Python [conda env:mne-dask]",
   "language": "python",
   "name": "conda-env-mne-dask-py"
  },
  "language_info": {
   "codemirror_mode": {
    "name": "ipython",
    "version": 3
   },
   "file_extension": ".py",
   "mimetype": "text/x-python",
   "name": "python",
   "nbconvert_exporter": "python",
   "pygments_lexer": "ipython3",
   "version": "3.8.0"
  }
 },
 "nbformat": 4,
 "nbformat_minor": 4
}
